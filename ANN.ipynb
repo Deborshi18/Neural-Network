{
  "nbformat": 4,
  "nbformat_minor": 0,
  "metadata": {
    "colab": {
      "name": "ANN.ipynb",
      "provenance": [],
      "authorship_tag": "ABX9TyPm0DS8licsJLHSUUN1Eux1",
      "include_colab_link": true
    },
    "kernelspec": {
      "name": "python3",
      "display_name": "Python 3"
    },
    "accelerator": "GPU"
  },
  "cells": [
    {
      "cell_type": "markdown",
      "metadata": {
        "id": "view-in-github",
        "colab_type": "text"
      },
      "source": [
        "<a href=\"https://colab.research.google.com/github/Deborshi18/Neural-Network/blob/master/ANN.ipynb\" target=\"_parent\"><img src=\"https://colab.research.google.com/assets/colab-badge.svg\" alt=\"Open In Colab\"/></a>"
      ]
    },
    {
      "cell_type": "code",
      "metadata": {
        "id": "53oEhIYL6OXh",
        "colab_type": "code",
        "colab": {}
      },
      "source": [
        "#Part 1 Data Preprocessing\n",
        "\n",
        "#Importing the libraries\n",
        "\n",
        "import numpy as np\n",
        "import matplotlib.pyplot as plt\n",
        "import pandas as pd\n",
        "\n"
      ],
      "execution_count": 0,
      "outputs": []
    },
    {
      "cell_type": "code",
      "metadata": {
        "id": "eW6Nuzgn8cFU",
        "colab_type": "code",
        "colab": {}
      },
      "source": [
        "#Importing the dataset\n",
        "\n",
        "dataset=pd.read_csv(\"/content/sample_data/Churn_Modelling.csv\")\n",
        "x=dataset.iloc[:,3:13].values\n",
        "y=dataset.iloc[:,13].values\n",
        " "
      ],
      "execution_count": 0,
      "outputs": []
    },
    {
      "cell_type": "code",
      "metadata": {
        "id": "M9M5FDPDoH7h",
        "colab_type": "code",
        "outputId": "8aaf5dc4-ed2e-4351-e65e-42a7b1f198bc",
        "colab": {
          "base_uri": "https://localhost:8080/",
          "height": 35
        }
      },
      "source": [
        "x.shape"
      ],
      "execution_count": 0,
      "outputs": [
        {
          "output_type": "execute_result",
          "data": {
            "text/plain": [
              "(10000, 10)"
            ]
          },
          "metadata": {
            "tags": []
          },
          "execution_count": 74
        }
      ]
    },
    {
      "cell_type": "code",
      "metadata": {
        "id": "emMeEqTs9BpU",
        "colab_type": "code",
        "colab": {}
      },
      "source": [
        "#Ecncoding categorical data\n",
        "from sklearn.preprocessing import LabelEncoder, OneHotEncoder\n",
        "labelencoder_x_1 = LabelEncoder()\n",
        "x[:,1]=labelencoder_x_1.fit_transform(x[:,1])\n",
        "labelencoder_x_2 = LabelEncoder()\n",
        "x[:,2]=labelencoder_x_2.fit_transform(x[:,2])\n",
        "\n",
        "\n"
      ],
      "execution_count": 0,
      "outputs": []
    },
    {
      "cell_type": "code",
      "metadata": {
        "id": "3NwHOVjfDFNm",
        "colab_type": "code",
        "colab": {}
      },
      "source": [
        "#Splitting the dataset into the training and test set\n",
        "from sklearn.model_selection import train_test_split\n",
        "x_train,x_test,y_train,y_test=train_test_split(x,y,test_size=0.2,random_state=0)"
      ],
      "execution_count": 0,
      "outputs": []
    },
    {
      "cell_type": "code",
      "metadata": {
        "id": "jX5fJjF_MLjI",
        "colab_type": "code",
        "colab": {}
      },
      "source": [
        "#feature scaling\n",
        "from sklearn.preprocessing import StandardScaler\n",
        "sc=StandardScaler()\n",
        "x_train=sc.fit_transform(x_train)\n",
        "x_test=sc.transform(x_test)"
      ],
      "execution_count": 0,
      "outputs": []
    },
    {
      "cell_type": "code",
      "metadata": {
        "id": "sCsueN1DPDsU",
        "colab_type": "code",
        "outputId": "c0c2637f-2c80-4acb-93e5-86102e11b9cd",
        "colab": {
          "base_uri": "https://localhost:8080/",
          "height": 35
        }
      },
      "source": [
        "x_train.shape"
      ],
      "execution_count": 0,
      "outputs": [
        {
          "output_type": "execute_result",
          "data": {
            "text/plain": [
              "(8000, 10)"
            ]
          },
          "metadata": {
            "tags": []
          },
          "execution_count": 69
        }
      ]
    },
    {
      "cell_type": "code",
      "metadata": {
        "id": "AN7MEzH7PE_c",
        "colab_type": "code",
        "outputId": "02567457-1c1b-45db-aca6-fb9b9707a404",
        "colab": {
          "base_uri": "https://localhost:8080/",
          "height": 253
        }
      },
      "source": [
        "x_test"
      ],
      "execution_count": 0,
      "outputs": [
        {
          "output_type": "execute_result",
          "data": {
            "text/plain": [
              "array([[-0.56129438,  0.28034192, -1.11339196, ...,  0.66011376,\n",
              "         0.97628121,  1.62185911],\n",
              "       [-1.33847768, -0.93853599, -1.11339196, ...,  0.66011376,\n",
              "        -1.02429504,  0.504204  ],\n",
              "       [ 0.58347561,  1.49921982, -1.11339196, ...,  0.66011376,\n",
              "         0.97628121, -0.41865644],\n",
              "       ...,\n",
              "       [-0.76084144,  1.49921982,  0.8981563 , ...,  0.66011376,\n",
              "        -1.02429504,  0.72775202],\n",
              "       [-0.0046631 ,  0.28034192,  0.8981563 , ...,  0.66011376,\n",
              "         0.97628121, -1.54162886],\n",
              "       [-0.81335383,  0.28034192,  0.8981563 , ...,  0.66011376,\n",
              "        -1.02429504,  1.62356528]])"
            ]
          },
          "metadata": {
            "tags": []
          },
          "execution_count": 38
        }
      ]
    },
    {
      "cell_type": "code",
      "metadata": {
        "id": "OHSJNTnEPIHr",
        "colab_type": "code",
        "colab": {}
      },
      "source": [
        "#ANN\n",
        "import keras\n"
      ],
      "execution_count": 0,
      "outputs": []
    },
    {
      "cell_type": "code",
      "metadata": {
        "id": "jbGd62cGVxU-",
        "colab_type": "code",
        "colab": {}
      },
      "source": [
        "from keras.models import Sequential\n",
        "from keras.layers import Dense"
      ],
      "execution_count": 0,
      "outputs": []
    },
    {
      "cell_type": "code",
      "metadata": {
        "id": "EpmbLeI9WOU5",
        "colab_type": "code",
        "colab": {}
      },
      "source": [
        "#Initializing the ANN\n",
        "classifier = Sequential()\n",
        "\n",
        "#Adding the input layer and first hidden layer\n",
        "classifier.add(Dense(units=6,kernel_initializer='uniform',activation='relu',input_dim=10))\n",
        "#adding the second layer\n",
        "classifier.add(Dense(units=6,kernel_initializer='uniform',activation='relu'))\n",
        "#adding the output layer\n",
        "classifier.add(Dense(units=1,kernel_initializer='uniform',activation='sigmoid'))\n",
        "\n"
      ],
      "execution_count": 0,
      "outputs": []
    },
    {
      "cell_type": "code",
      "metadata": {
        "id": "QyVgUunSkBv_",
        "colab_type": "code",
        "colab": {}
      },
      "source": [
        "#compiling the ANN\n",
        "classifier.compile(optimizer='adam',loss='binary_crossentropy',metrics=['accuracy'])\n"
      ],
      "execution_count": 0,
      "outputs": []
    },
    {
      "cell_type": "code",
      "metadata": {
        "id": "yREtWpu1lznP",
        "colab_type": "code",
        "outputId": "6de9498c-2d24-4644-f2af-d3ace1797470",
        "colab": {
          "base_uri": "https://localhost:8080/",
          "height": 1000
        }
      },
      "source": [
        "#fitting the ann to dataset\n",
        "classifier.fit(x_train,y_train,batch_size=11,epochs=100)"
      ],
      "execution_count": 0,
      "outputs": [
        {
          "output_type": "stream",
          "text": [
            "WARNING:tensorflow:From /usr/local/lib/python3.6/dist-packages/keras/backend/tensorflow_backend.py:1033: The name tf.assign_add is deprecated. Please use tf.compat.v1.assign_add instead.\n",
            "\n",
            "WARNING:tensorflow:From /usr/local/lib/python3.6/dist-packages/keras/backend/tensorflow_backend.py:1020: The name tf.assign is deprecated. Please use tf.compat.v1.assign instead.\n",
            "\n",
            "WARNING:tensorflow:From /usr/local/lib/python3.6/dist-packages/keras/backend/tensorflow_backend.py:3005: The name tf.Session is deprecated. Please use tf.compat.v1.Session instead.\n",
            "\n",
            "Epoch 1/100\n",
            "WARNING:tensorflow:From /usr/local/lib/python3.6/dist-packages/keras/backend/tensorflow_backend.py:190: The name tf.get_default_session is deprecated. Please use tf.compat.v1.get_default_session instead.\n",
            "\n",
            "WARNING:tensorflow:From /usr/local/lib/python3.6/dist-packages/keras/backend/tensorflow_backend.py:197: The name tf.ConfigProto is deprecated. Please use tf.compat.v1.ConfigProto instead.\n",
            "\n",
            "WARNING:tensorflow:From /usr/local/lib/python3.6/dist-packages/keras/backend/tensorflow_backend.py:207: The name tf.global_variables is deprecated. Please use tf.compat.v1.global_variables instead.\n",
            "\n",
            "WARNING:tensorflow:From /usr/local/lib/python3.6/dist-packages/keras/backend/tensorflow_backend.py:216: The name tf.is_variable_initialized is deprecated. Please use tf.compat.v1.is_variable_initialized instead.\n",
            "\n",
            "WARNING:tensorflow:From /usr/local/lib/python3.6/dist-packages/keras/backend/tensorflow_backend.py:223: The name tf.variables_initializer is deprecated. Please use tf.compat.v1.variables_initializer instead.\n",
            "\n",
            "8000/8000 [==============================] - 12s 1ms/step - loss: 0.5041 - acc: 0.7953\n",
            "Epoch 2/100\n",
            "8000/8000 [==============================] - 2s 291us/step - loss: 0.4339 - acc: 0.7960\n",
            "Epoch 3/100\n",
            "8000/8000 [==============================] - 2s 295us/step - loss: 0.4302 - acc: 0.7960\n",
            "Epoch 4/100\n",
            "8000/8000 [==============================] - 2s 292us/step - loss: 0.4264 - acc: 0.7960\n",
            "Epoch 5/100\n",
            "8000/8000 [==============================] - 2s 293us/step - loss: 0.4231 - acc: 0.8171\n",
            "Epoch 6/100\n",
            "8000/8000 [==============================] - 2s 296us/step - loss: 0.4213 - acc: 0.8261\n",
            "Epoch 7/100\n",
            "8000/8000 [==============================] - 2s 295us/step - loss: 0.4191 - acc: 0.8289\n",
            "Epoch 8/100\n",
            "8000/8000 [==============================] - 2s 298us/step - loss: 0.4172 - acc: 0.8308\n",
            "Epoch 9/100\n",
            "8000/8000 [==============================] - 2s 291us/step - loss: 0.4163 - acc: 0.8311\n",
            "Epoch 10/100\n",
            "8000/8000 [==============================] - 2s 294us/step - loss: 0.4149 - acc: 0.8321\n",
            "Epoch 11/100\n",
            "8000/8000 [==============================] - 2s 306us/step - loss: 0.4143 - acc: 0.8335\n",
            "Epoch 12/100\n",
            "8000/8000 [==============================] - 2s 298us/step - loss: 0.4134 - acc: 0.8331\n",
            "Epoch 13/100\n",
            "8000/8000 [==============================] - 2s 297us/step - loss: 0.4126 - acc: 0.8325\n",
            "Epoch 14/100\n",
            "8000/8000 [==============================] - 2s 290us/step - loss: 0.4122 - acc: 0.8341\n",
            "Epoch 15/100\n",
            "8000/8000 [==============================] - 2s 286us/step - loss: 0.4117 - acc: 0.8334\n",
            "Epoch 16/100\n",
            "8000/8000 [==============================] - 2s 289us/step - loss: 0.4112 - acc: 0.8344\n",
            "Epoch 17/100\n",
            "8000/8000 [==============================] - 2s 295us/step - loss: 0.4109 - acc: 0.8336\n",
            "Epoch 18/100\n",
            "8000/8000 [==============================] - 2s 292us/step - loss: 0.4103 - acc: 0.8343\n",
            "Epoch 19/100\n",
            "8000/8000 [==============================] - 2s 288us/step - loss: 0.4098 - acc: 0.8354\n",
            "Epoch 20/100\n",
            "8000/8000 [==============================] - 2s 288us/step - loss: 0.4088 - acc: 0.8348\n",
            "Epoch 21/100\n",
            "8000/8000 [==============================] - 2s 297us/step - loss: 0.4085 - acc: 0.8338\n",
            "Epoch 22/100\n",
            "8000/8000 [==============================] - 2s 294us/step - loss: 0.4079 - acc: 0.8346\n",
            "Epoch 23/100\n",
            "8000/8000 [==============================] - 2s 290us/step - loss: 0.4071 - acc: 0.8351\n",
            "Epoch 24/100\n",
            "8000/8000 [==============================] - 2s 293us/step - loss: 0.4069 - acc: 0.8338\n",
            "Epoch 25/100\n",
            "8000/8000 [==============================] - 2s 298us/step - loss: 0.4064 - acc: 0.8343\n",
            "Epoch 26/100\n",
            "8000/8000 [==============================] - 2s 299us/step - loss: 0.4059 - acc: 0.8325\n",
            "Epoch 27/100\n",
            "8000/8000 [==============================] - 2s 295us/step - loss: 0.4058 - acc: 0.8336\n",
            "Epoch 28/100\n",
            "8000/8000 [==============================] - 2s 298us/step - loss: 0.4051 - acc: 0.8356\n",
            "Epoch 29/100\n",
            "8000/8000 [==============================] - 2s 291us/step - loss: 0.4049 - acc: 0.8339\n",
            "Epoch 30/100\n",
            "8000/8000 [==============================] - 2s 287us/step - loss: 0.4047 - acc: 0.8336\n",
            "Epoch 31/100\n",
            "8000/8000 [==============================] - 2s 291us/step - loss: 0.4044 - acc: 0.8350\n",
            "Epoch 32/100\n",
            "8000/8000 [==============================] - 2s 292us/step - loss: 0.4041 - acc: 0.8360\n",
            "Epoch 33/100\n",
            "8000/8000 [==============================] - 2s 288us/step - loss: 0.4035 - acc: 0.8339\n",
            "Epoch 34/100\n",
            "8000/8000 [==============================] - 2s 288us/step - loss: 0.4032 - acc: 0.8358\n",
            "Epoch 35/100\n",
            "8000/8000 [==============================] - 2s 287us/step - loss: 0.4028 - acc: 0.8350\n",
            "Epoch 36/100\n",
            "8000/8000 [==============================] - 2s 287us/step - loss: 0.4029 - acc: 0.8348\n",
            "Epoch 37/100\n",
            "8000/8000 [==============================] - 2s 290us/step - loss: 0.4031 - acc: 0.8354\n",
            "Epoch 38/100\n",
            "8000/8000 [==============================] - 2s 290us/step - loss: 0.4027 - acc: 0.8353\n",
            "Epoch 39/100\n",
            "8000/8000 [==============================] - 2s 287us/step - loss: 0.4017 - acc: 0.8364\n",
            "Epoch 40/100\n",
            "8000/8000 [==============================] - 2s 285us/step - loss: 0.4019 - acc: 0.8339\n",
            "Epoch 41/100\n",
            "8000/8000 [==============================] - 2s 283us/step - loss: 0.4022 - acc: 0.8350\n",
            "Epoch 42/100\n",
            "8000/8000 [==============================] - 2s 287us/step - loss: 0.4021 - acc: 0.8358\n",
            "Epoch 43/100\n",
            "8000/8000 [==============================] - 2s 284us/step - loss: 0.4019 - acc: 0.8346\n",
            "Epoch 44/100\n",
            "8000/8000 [==============================] - 2s 287us/step - loss: 0.4017 - acc: 0.8354\n",
            "Epoch 45/100\n",
            "8000/8000 [==============================] - 2s 289us/step - loss: 0.4013 - acc: 0.8359\n",
            "Epoch 46/100\n",
            "8000/8000 [==============================] - 2s 283us/step - loss: 0.4012 - acc: 0.8354\n",
            "Epoch 47/100\n",
            "8000/8000 [==============================] - 2s 286us/step - loss: 0.4012 - acc: 0.8358\n",
            "Epoch 48/100\n",
            "8000/8000 [==============================] - 2s 284us/step - loss: 0.4014 - acc: 0.8334\n",
            "Epoch 49/100\n",
            "8000/8000 [==============================] - 2s 288us/step - loss: 0.4012 - acc: 0.8354\n",
            "Epoch 50/100\n",
            "8000/8000 [==============================] - 2s 283us/step - loss: 0.4010 - acc: 0.8346\n",
            "Epoch 51/100\n",
            "8000/8000 [==============================] - 2s 285us/step - loss: 0.4010 - acc: 0.8359\n",
            "Epoch 52/100\n",
            "8000/8000 [==============================] - 2s 288us/step - loss: 0.4009 - acc: 0.8355\n",
            "Epoch 53/100\n",
            "8000/8000 [==============================] - 2s 281us/step - loss: 0.4009 - acc: 0.8349\n",
            "Epoch 54/100\n",
            "8000/8000 [==============================] - 2s 283us/step - loss: 0.4005 - acc: 0.8370\n",
            "Epoch 55/100\n",
            "8000/8000 [==============================] - 2s 297us/step - loss: 0.4001 - acc: 0.8344\n",
            "Epoch 56/100\n",
            "8000/8000 [==============================] - 2s 298us/step - loss: 0.4005 - acc: 0.8356\n",
            "Epoch 57/100\n",
            "8000/8000 [==============================] - 2s 293us/step - loss: 0.4010 - acc: 0.8350\n",
            "Epoch 58/100\n",
            "8000/8000 [==============================] - 2s 287us/step - loss: 0.4005 - acc: 0.8354\n",
            "Epoch 59/100\n",
            "8000/8000 [==============================] - 2s 291us/step - loss: 0.4004 - acc: 0.8349\n",
            "Epoch 60/100\n",
            "8000/8000 [==============================] - 2s 288us/step - loss: 0.4000 - acc: 0.8351\n",
            "Epoch 61/100\n",
            "8000/8000 [==============================] - 2s 290us/step - loss: 0.4004 - acc: 0.8355\n",
            "Epoch 62/100\n",
            "8000/8000 [==============================] - 2s 283us/step - loss: 0.3998 - acc: 0.8348\n",
            "Epoch 63/100\n",
            "8000/8000 [==============================] - 2s 292us/step - loss: 0.4006 - acc: 0.8335\n",
            "Epoch 64/100\n",
            "8000/8000 [==============================] - 2s 286us/step - loss: 0.4002 - acc: 0.8360\n",
            "Epoch 65/100\n",
            "8000/8000 [==============================] - 2s 283us/step - loss: 0.4001 - acc: 0.8346\n",
            "Epoch 66/100\n",
            "8000/8000 [==============================] - 2s 283us/step - loss: 0.4005 - acc: 0.8363\n",
            "Epoch 67/100\n",
            "8000/8000 [==============================] - 2s 277us/step - loss: 0.4000 - acc: 0.8340\n",
            "Epoch 68/100\n",
            "8000/8000 [==============================] - 2s 284us/step - loss: 0.4001 - acc: 0.8361\n",
            "Epoch 69/100\n",
            "8000/8000 [==============================] - 2s 278us/step - loss: 0.3998 - acc: 0.8350\n",
            "Epoch 70/100\n",
            "8000/8000 [==============================] - 2s 286us/step - loss: 0.3999 - acc: 0.8359\n",
            "Epoch 71/100\n",
            "8000/8000 [==============================] - 2s 292us/step - loss: 0.4004 - acc: 0.8338\n",
            "Epoch 72/100\n",
            "8000/8000 [==============================] - 2s 295us/step - loss: 0.3997 - acc: 0.8333\n",
            "Epoch 73/100\n",
            "8000/8000 [==============================] - 2s 293us/step - loss: 0.4001 - acc: 0.8354\n",
            "Epoch 74/100\n",
            "8000/8000 [==============================] - 2s 299us/step - loss: 0.4001 - acc: 0.8339\n",
            "Epoch 75/100\n",
            "8000/8000 [==============================] - 2s 284us/step - loss: 0.3994 - acc: 0.8345\n",
            "Epoch 76/100\n",
            "8000/8000 [==============================] - 2s 283us/step - loss: 0.3996 - acc: 0.8343\n",
            "Epoch 77/100\n",
            "8000/8000 [==============================] - 2s 284us/step - loss: 0.3996 - acc: 0.8359\n",
            "Epoch 78/100\n",
            "8000/8000 [==============================] - 2s 287us/step - loss: 0.3995 - acc: 0.8348\n",
            "Epoch 79/100\n",
            "8000/8000 [==============================] - 2s 283us/step - loss: 0.3996 - acc: 0.8353\n",
            "Epoch 80/100\n",
            "8000/8000 [==============================] - 2s 278us/step - loss: 0.3997 - acc: 0.8343\n",
            "Epoch 81/100\n",
            "8000/8000 [==============================] - 2s 283us/step - loss: 0.3994 - acc: 0.8354\n",
            "Epoch 82/100\n",
            "8000/8000 [==============================] - 2s 287us/step - loss: 0.3995 - acc: 0.8343\n",
            "Epoch 83/100\n",
            "8000/8000 [==============================] - 2s 278us/step - loss: 0.3994 - acc: 0.8349\n",
            "Epoch 84/100\n",
            "8000/8000 [==============================] - 2s 278us/step - loss: 0.3996 - acc: 0.8349\n",
            "Epoch 85/100\n",
            "8000/8000 [==============================] - 2s 287us/step - loss: 0.3992 - acc: 0.8356\n",
            "Epoch 86/100\n",
            "8000/8000 [==============================] - 2s 279us/step - loss: 0.3995 - acc: 0.8358\n",
            "Epoch 87/100\n",
            "8000/8000 [==============================] - 2s 280us/step - loss: 0.3995 - acc: 0.8345\n",
            "Epoch 88/100\n",
            "8000/8000 [==============================] - 2s 282us/step - loss: 0.3992 - acc: 0.8358\n",
            "Epoch 89/100\n",
            "8000/8000 [==============================] - 2s 281us/step - loss: 0.3992 - acc: 0.8363\n",
            "Epoch 90/100\n",
            "8000/8000 [==============================] - 2s 285us/step - loss: 0.3990 - acc: 0.8354\n",
            "Epoch 91/100\n",
            "8000/8000 [==============================] - 2s 286us/step - loss: 0.3986 - acc: 0.8359\n",
            "Epoch 92/100\n",
            "8000/8000 [==============================] - 2s 287us/step - loss: 0.3984 - acc: 0.8364\n",
            "Epoch 93/100\n",
            "8000/8000 [==============================] - 2s 280us/step - loss: 0.3981 - acc: 0.8355\n",
            "Epoch 94/100\n",
            "8000/8000 [==============================] - 2s 279us/step - loss: 0.3980 - acc: 0.8344\n",
            "Epoch 95/100\n",
            "8000/8000 [==============================] - 2s 285us/step - loss: 0.3977 - acc: 0.8360\n",
            "Epoch 96/100\n",
            "8000/8000 [==============================] - 2s 287us/step - loss: 0.3975 - acc: 0.8343\n",
            "Epoch 97/100\n",
            "8000/8000 [==============================] - 2s 284us/step - loss: 0.3969 - acc: 0.8360\n",
            "Epoch 98/100\n",
            "8000/8000 [==============================] - 2s 286us/step - loss: 0.3972 - acc: 0.8356\n",
            "Epoch 99/100\n",
            "8000/8000 [==============================] - 2s 285us/step - loss: 0.3969 - acc: 0.8370\n",
            "Epoch 100/100\n",
            "8000/8000 [==============================] - 2s 280us/step - loss: 0.3965 - acc: 0.8354\n"
          ],
          "name": "stdout"
        },
        {
          "output_type": "execute_result",
          "data": {
            "text/plain": [
              "<keras.callbacks.History at 0x7fa1068b2898>"
            ]
          },
          "metadata": {
            "tags": []
          },
          "execution_count": 82
        }
      ]
    },
    {
      "cell_type": "code",
      "metadata": {
        "id": "8ONVBrUum-93",
        "colab_type": "code",
        "colab": {}
      },
      "source": [
        "y_pred = classifier.predict(x_test)"
      ],
      "execution_count": 0,
      "outputs": []
    },
    {
      "cell_type": "code",
      "metadata": {
        "id": "-iGua_5JnBCU",
        "colab_type": "code",
        "colab": {}
      },
      "source": [
        "y_pred=(y_pred>0.5)"
      ],
      "execution_count": 0,
      "outputs": []
    },
    {
      "cell_type": "code",
      "metadata": {
        "id": "4qplv7_3nPGD",
        "colab_type": "code",
        "outputId": "a87a87f6-937d-4ad7-da0b-619ddac9b67e",
        "colab": {
          "base_uri": "https://localhost:8080/",
          "height": 144
        }
      },
      "source": [
        "y_pred"
      ],
      "execution_count": 0,
      "outputs": [
        {
          "output_type": "execute_result",
          "data": {
            "text/plain": [
              "array([[False],\n",
              "       [False],\n",
              "       [False],\n",
              "       ...,\n",
              "       [False],\n",
              "       [False],\n",
              "       [False]])"
            ]
          },
          "metadata": {
            "tags": []
          },
          "execution_count": 85
        }
      ]
    },
    {
      "cell_type": "code",
      "metadata": {
        "id": "_0EZMgYiqWd-",
        "colab_type": "code",
        "colab": {}
      },
      "source": [
        "from sklearn.metrics import confusion_matrix\n",
        "cm = confusion_matrix(y_test,y_pred)"
      ],
      "execution_count": 0,
      "outputs": []
    },
    {
      "cell_type": "code",
      "metadata": {
        "id": "KbxkhfuVqvJR",
        "colab_type": "code",
        "outputId": "eec1fd65-0017-4f23-b0c5-ec217f9b4f79",
        "colab": {
          "base_uri": "https://localhost:8080/",
          "height": 53
        }
      },
      "source": [
        "cm"
      ],
      "execution_count": 0,
      "outputs": [
        {
          "output_type": "execute_result",
          "data": {
            "text/plain": [
              "array([[1528,   67],\n",
              "       [ 243,  162]])"
            ]
          },
          "metadata": {
            "tags": []
          },
          "execution_count": 88
        }
      ]
    },
    {
      "cell_type": "code",
      "metadata": {
        "id": "K2S7XN9dqv9V",
        "colab_type": "code",
        "colab": {}
      },
      "source": [
        ""
      ],
      "execution_count": 0,
      "outputs": []
    }
  ]
}